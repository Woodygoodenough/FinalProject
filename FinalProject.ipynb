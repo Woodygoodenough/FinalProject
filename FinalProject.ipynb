{
 "cells": [
  {
   "attachments": {},
   "cell_type": "markdown",
   "metadata": {
    "datalore": {
     "hide_input_from_viewers": true,
     "hide_output_from_viewers": true,
     "node_id": "QHaWpsCqFdReICCeSGQeLp",
     "type": "MD"
    }
   },
   "source": [
    "## Project Goals\n",
    "Our project seeks to analyze health-related datasets focusing on diabetes, aiming to uncover insights into how various health conditions contribute to the diagnosis of diabetes. This analysis will cover how various health metrics relate to diabetes diagnoses. Values range from macroscopic (e.g. gender, age) to microscopic (e.g. blood glucose level), additionally including common risk factors, like history of heart disease and smoking. Following basic exploratory analysis, PCA is applied to reduce data dimensionality for clustering analysis that could potentially categorize individuals based on their likelihood of developing diabetes."
   ]
  },
  {
   "attachments": {},
   "cell_type": "markdown",
   "metadata": {
    "datalore": {
     "hide_input_from_viewers": false,
     "hide_output_from_viewers": false,
     "node_id": "86MHua1r0z4i0DtdpIB2gA",
     "report_properties": {
      "rowId": "obdAY2rxp1PeFMqVYROCsm"
     },
     "type": "MD"
    }
   },
   "source": [
    "## Import Section"
   ]
  },
  {
   "cell_type": "code",
   "execution_count": null,
   "metadata": {
    "datalore": {
     "hide_input_from_viewers": false,
     "hide_output_from_viewers": false,
     "node_id": "AyYS0kRscRPnVlIt2Mz5f0",
     "report_properties": {
      "rowId": "NUsx9BDcBm9WrAQMYU8UFA"
     },
     "type": "CODE"
    }
   },
   "outputs": [],
   "source": [
    "from utilities import ProjectDataFrame, ProjNormalizedDF, LogisticModel, one_hot_encoder"
   ]
  },
  {
   "attachments": {},
   "cell_type": "markdown",
   "metadata": {
    "datalore": {
     "hide_input_from_viewers": false,
     "hide_output_from_viewers": false,
     "node_id": "tubOw6wQILXL5xNWvCQN1w",
     "report_properties": {
      "rowId": "97UjpBYXbpqD1elhztqi3c"
     },
     "type": "MD"
    }
   },
   "source": [
    "## 1 Data Loading and Dataset Overview"
   ]
  },
  {
   "cell_type": "code",
   "execution_count": null,
   "metadata": {
    "datalore": {
     "hide_input_from_viewers": false,
     "hide_output_from_viewers": false,
     "node_id": "GVPXAhwFSxbHIazp8X4O6j",
     "report_properties": {
      "rowId": "5GCnIylsQzpQwv9CFTt75t"
     },
     "type": "CODE"
    }
   },
   "outputs": [],
   "source": [
    "DATA_PATH = \"diabetes_prediction_dataset.csv\"\n",
    "INVASIVES = ['HbA1c_level', 'blood_glucose_level']\n",
    "RANDOM_STATE = 42 # for reproducibility\n",
    "projectdf = ProjectDataFrame(DATA_PATH, random_state=RANDOM_STATE)"
   ]
  },
  {
   "cell_type": "code",
   "execution_count": null,
   "metadata": {},
   "outputs": [],
   "source": [
    "projectdf.dataset_overview()"
   ]
  },
  {
   "attachments": {},
   "cell_type": "markdown",
   "metadata": {
    "datalore": {
     "hide_input_from_viewers": false,
     "hide_output_from_viewers": false,
     "node_id": "WtuRLrXUtNVEbDw5nAqOkh",
     "report_properties": {
      "rowId": "ItZx73RiJdLJxiGIVewoq9"
     },
     "type": "MD"
    }
   },
   "source": [
    "## 2 Categorical Features Inspection"
   ]
  },
  {
   "cell_type": "code",
   "execution_count": null,
   "metadata": {
    "datalore": {
     "hide_input_from_viewers": false,
     "hide_output_from_viewers": false,
     "node_id": "5nlyVvrOwai4JpoJmAwwLY",
     "report_properties": {
      "rowId": "BiNBbXuDOChvd5xL803IuZ"
     },
     "type": "CODE"
    }
   },
   "outputs": [],
   "source": [
    "projectdf.categoricals_inspection()"
   ]
  },
  {
   "attachments": {},
   "cell_type": "markdown",
   "metadata": {
    "datalore": {
     "hide_input_from_viewers": false,
     "hide_output_from_viewers": false,
     "node_id": "ti6EkgiH6HgIOc9MbAkcKo",
     "report_properties": {
      "rowId": "UCYc1WyXUBpzSQuAkB10vq"
     },
     "type": "MD"
    }
   },
   "source": [
    "## 3 Numericals Inspection"
   ]
  },
  {
   "cell_type": "code",
   "execution_count": null,
   "metadata": {
    "datalore": {
     "hide_input_from_viewers": false,
     "hide_output_from_viewers": false,
     "node_id": "WvPy7PHPrKBK3Vl5Bnul8A",
     "report_properties": {
      "rowId": "53ekQj9QEWRu1j3xK06Xb4"
     },
     "type": "CODE"
    }
   },
   "outputs": [],
   "source": [
    "projectdf.numericals_inspection()"
   ]
  },
  {
   "attachments": {},
   "cell_type": "markdown",
   "metadata": {
    "datalore": {
     "hide_input_from_viewers": false,
     "hide_output_from_viewers": false,
     "node_id": "IYmwBbeP7sTnGWr0UsXKlU",
     "report_properties": {
      "rowId": "MvJx5MKQOrwFz4V1C5FsMd"
     },
     "type": "MD"
    }
   },
   "source": [
    "## 4 Perform Normalization"
   ]
  },
  {
   "attachments": {},
   "cell_type": "markdown",
   "metadata": {
    "datalore": {
     "hide_input_from_viewers": false,
     "hide_output_from_viewers": false,
     "node_id": "clcdPcgOGUN1I82Nh3LKVK",
     "report_properties": {
      "rowId": "bQYjawyyzVyysev96KRFG6"
     },
     "type": "MD"
    }
   },
   "source": [
    "### 4.1 Handle Missing Values"
   ]
  },
  {
   "attachments": {},
   "cell_type": "markdown",
   "metadata": {
    "datalore": {
     "hide_input_from_viewers": false,
     "hide_output_from_viewers": false,
     "node_id": "PywcbTwqtTSe3OuVrmJL0m",
     "report_properties": {
      "rowId": "sSiJaBMJYVfWHNwfLXXwhy"
     },
     "type": "MD"
    }
   },
   "source": [
    "####  gender - drop small number of samples"
   ]
  },
  {
   "cell_type": "code",
   "execution_count": null,
   "metadata": {
    "datalore": {
     "hide_input_from_viewers": false,
     "hide_output_from_viewers": false,
     "node_id": "uXvVjLw25JVn0GpGbHAMcF",
     "report_properties": {
      "rowId": "BHKxFu3r3yQ4qNJJPKFV8v"
     },
     "type": "CODE"
    }
   },
   "outputs": [],
   "source": [
    "df = projectdf.get_data()"
   ]
  },
  {
   "cell_type": "code",
   "execution_count": null,
   "metadata": {
    "datalore": {
     "hide_input_from_viewers": false,
     "hide_output_from_viewers": false,
     "node_id": "vEDNn998dzlZnaoDp705Mq",
     "report_properties": {
      "rowId": "5dRFgD5jM6498WuTrT004M"
     },
     "type": "CODE"
    }
   },
   "outputs": [],
   "source": [
    "# drop rows with missing gender values\n",
    "df = df.dropna(subset=['gender'])"
   ]
  },
  {
   "attachments": {},
   "cell_type": "markdown",
   "metadata": {
    "datalore": {
     "hide_input_from_viewers": false,
     "hide_output_from_viewers": false,
     "node_id": "yyfLidDUtOVuPV12JIJZhA",
     "report_properties": {
      "rowId": "RCaw9n4OmM7SeobXC3Qgr1"
     },
     "type": "MD"
    }
   },
   "source": [
    "#### smoking_history - imputation"
   ]
  },
  {
   "cell_type": "code",
   "execution_count": null,
   "metadata": {
    "datalore": {
     "hide_input_from_viewers": false,
     "hide_output_from_viewers": false,
     "node_id": "JkKI7D2Pl8Iejws87vOvtK",
     "report_properties": {
      "rowId": "hbzJGYaIYahdIBDphDp7oD"
     },
     "type": "CODE"
    }
   },
   "outputs": [],
   "source": [
    "# impute missing smoking history values with the most frequent value\n",
    "most_frequent_smoking_history = df['smoking_history'].mode()[0]\n",
    "df.loc[:, 'smoking_history'] = df.loc[:, 'smoking_history'].fillna(most_frequent_smoking_history)"
   ]
  },
  {
   "attachments": {},
   "cell_type": "markdown",
   "metadata": {
    "datalore": {
     "hide_input_from_viewers": false,
     "hide_output_from_viewers": false,
     "node_id": "27yHf2NXo7qByqS7aDb8P2",
     "report_properties": {
      "rowId": "SNsvrtdrsVREBr1nErgpeQ"
     },
     "type": "MD"
    }
   },
   "source": [
    "#### further encoding smoking_history"
   ]
  },
  {
   "cell_type": "code",
   "execution_count": null,
   "metadata": {
    "datalore": {
     "hide_input_from_viewers": false,
     "hide_output_from_viewers": false,
     "node_id": "whI5bfS3rXf8ELg8FKTkhB",
     "report_properties": {
      "rowId": "aoxBfyBv00xdykGxPZcS8B"
     },
     "type": "CODE"
    }
   },
   "outputs": [],
   "source": [
    "# encoding former, ever, not current all to ever to simplify the model\n",
    "df.loc[:, 'smoking_history'] = df.loc[:, 'smoking_history'].replace('former', 'ever')\n",
    "df.loc[:, 'smoking_history'] = df.loc[:, 'smoking_history'].replace('not current', 'ever')\n",
    "# using one hot encoding for smoking history\n",
    "df = one_hot_encoder(df, \"smoking_history\")"
   ]
  },
  {
   "attachments": {},
   "cell_type": "markdown",
   "metadata": {
    "datalore": {
     "hide_input_from_viewers": false,
     "hide_output_from_viewers": false,
     "node_id": "CFtMxhDx4u48E5sMcj5gsR",
     "report_properties": {
      "rowId": "1g1cUptVOPh6tdCSG8YW92"
     },
     "type": "MD"
    }
   },
   "source": [
    "### 4.2 normalization for categoricals and numericals"
   ]
  },
  {
   "cell_type": "code",
   "execution_count": null,
   "metadata": {
    "datalore": {
     "hide_input_from_viewers": false,
     "hide_output_from_viewers": false,
     "node_id": "cPN6Lcm16xnMeQKzI5Etye",
     "report_properties": {
      "rowId": "lb1BRszNzNjW63VEwQyUTv"
     },
     "type": "CODE"
    }
   },
   "outputs": [],
   "source": [
    "projectdf.set_data(df)\n",
    "projectdf_nor = projectdf.normalize()"
   ]
  },
  {
   "attachments": {},
   "cell_type": "markdown",
   "metadata": {
    "datalore": {
     "hide_input_from_viewers": false,
     "hide_output_from_viewers": false,
     "node_id": "bv5Mw0KcvHtNasuLLFL7fA",
     "report_properties": {
      "rowId": "oEYZ5ROX4LSHKHe01XMDcP"
     },
     "type": "MD"
    }
   },
   "source": [
    "## 5 Principal Component Analysis"
   ]
  },
  {
   "cell_type": "code",
   "execution_count": null,
   "metadata": {
    "datalore": {
     "hide_input_from_viewers": false,
     "hide_output_from_viewers": false,
     "node_id": "EH48yMe4rDN0JrQn35GX8m",
     "report_properties": {
      "rowId": "7R1GjGTcyEsmF9XAaO58Wu"
     },
     "type": "CODE"
    }
   },
   "outputs": [],
   "source": [
    "pca = projectdf_nor.perform_pca()"
   ]
  },
  {
   "cell_type": "code",
   "execution_count": null,
   "metadata": {
    "datalore": {
     "hide_input_from_viewers": false,
     "hide_output_from_viewers": false,
     "node_id": "fZ5VaGbxl4CHzfVd8YBJv8",
     "report_properties": {
      "rowId": "IROXVp3ycybpsZ4GOO6x3w"
     },
     "type": "CODE"
    }
   },
   "outputs": [],
   "source": [
    "pca.get_cumu_var_plot()"
   ]
  },
  {
   "cell_type": "code",
   "execution_count": null,
   "metadata": {
    "datalore": {
     "hide_input_from_viewers": false,
     "hide_output_from_viewers": false,
     "node_id": "9wuRwxwxQOiPwf9S156fxA",
     "report_properties": {
      "rowId": "sRjyLoKjnyeVGWLgQufxlI"
     },
     "type": "CODE"
    }
   },
   "outputs": [],
   "source": [
    "pca.get_firt_two_components_scatter_plot()"
   ]
  },
  {
   "attachments": {},
   "cell_type": "markdown",
   "metadata": {
    "datalore": {
     "hide_input_from_viewers": false,
     "hide_output_from_viewers": false,
     "node_id": "6jo38XgiGGTETtk1o4y1l3",
     "report_properties": {
      "rowId": "JkJtWaMTKcLlUYn1iW2GUd"
     },
     "type": "MD"
    }
   },
   "source": [
    "## 6 Prediction Model"
   ]
  },
  {
   "attachments": {},
   "cell_type": "markdown",
   "metadata": {
    "datalore": {
     "hide_input_from_viewers": false,
     "hide_output_from_viewers": false,
     "node_id": "0rZm9UkYWRJwGyZOTTrXDj",
     "report_properties": {
      "rowId": "a1827IX9Hhpgffkk3geIgS"
     },
     "type": "MD"
    }
   },
   "source": [
    "### 6.1 Using Raw Features"
   ]
  },
  {
   "cell_type": "code",
   "execution_count": null,
   "metadata": {
    "datalore": {
     "hide_input_from_viewers": false,
     "hide_output_from_viewers": false,
     "node_id": "LleeZOhg5jRPn1H3AEP26K",
     "report_properties": {
      "rowId": "GHogwbQuwYMtmmUx5Fz59W"
     },
     "type": "CODE"
    }
   },
   "outputs": [],
   "source": [
    "# initialize model training\n",
    "logistic_raw = LogisticModel(projectdf_nor.features, projectdf_nor.target)\n",
    "# train the model\n",
    "model = logistic_raw.logistic_training(test_size=0.2, random_state=RANDOM_STATE)\n",
    "# evaluate the model\n",
    "logistic_raw.evaluate(model)"
   ]
  },
  {
   "cell_type": "markdown",
   "metadata": {},
   "source": [
    "> With imbalanced datasets, the accuracy score can be misleading. In this specific case, the ultimate goal of our logistic regression model is to identify most of the true positive cases of diabetes while maintaining a precision rate that is significantly higher than the general prevalence of diabetes in the population, which is 8.5%."
   ]
  },
  {
   "cell_type": "code",
   "execution_count": null,
   "metadata": {
    "datalore": {
     "hide_input_from_viewers": false,
     "hide_output_from_viewers": false,
     "node_id": "qaJmN6edHKaXhsmb9Ww4YR",
     "report_properties": {
      "rowId": "IIdGKgdXxu3dVcGEqeXIUH"
     },
     "type": "CODE"
    }
   },
   "outputs": [],
   "source": [
    "logistic_raw.get_model_expression(model)"
   ]
  },
  {
   "attachments": {},
   "cell_type": "markdown",
   "metadata": {
    "datalore": {
     "hide_input_from_viewers": false,
     "hide_output_from_viewers": false,
     "node_id": "x61voB07Koijp5C9xzVFvr",
     "report_properties": {
      "rowId": "df6jAkSdgNkIhYagdr9VXt"
     },
     "type": "MD"
    }
   },
   "source": [
    "### 6.2 Use Pricinpal Components to reduce dimensions"
   ]
  },
  {
   "attachments": {},
   "cell_type": "markdown",
   "metadata": {
    "datalore": {
     "hide_input_from_viewers": false,
     "hide_output_from_viewers": false,
     "node_id": "7Jsb0ezRKyYiwVSaf2Y1oY",
     "report_properties": {
      "rowId": "inuIFc8hS6arPIh1ieDUXC"
     },
     "type": "MD"
    }
   },
   "source": [
    "#### using first five components (cumulatively account for 90% Variance)"
   ]
  },
  {
   "cell_type": "code",
   "execution_count": null,
   "metadata": {
    "datalore": {
     "hide_input_from_viewers": false,
     "hide_output_from_viewers": false,
     "node_id": "Hdlc2fyi0CxDnZBj9hmbdF",
     "report_properties": {
      "rowId": "QVhFfB53OqgbDuZsesPfYI"
     },
     "type": "CODE"
    }
   },
   "outputs": [],
   "source": [
    "pc_df = pca.get_project_principal_components_dataframe()"
   ]
  },
  {
   "cell_type": "code",
   "execution_count": null,
   "metadata": {
    "datalore": {
     "hide_input_from_viewers": false,
     "hide_output_from_viewers": false,
     "node_id": "MozvIqaOCZ5xUvikHSOnQO",
     "report_properties": {
      "rowId": "10HuMzmki3o3xHBO2lJyZM"
     },
     "type": "CODE"
    }
   },
   "outputs": [],
   "source": [
    "# initialize the model\n",
    "logistic_pca = LogisticModel(pc_df.features.iloc[:, :5], pc_df.target)\n",
    "# train the model\n",
    "model = logistic_pca.logistic_training(test_size=0.2, random_state=RANDOM_STATE)\n",
    "# evaluate the model\n",
    "logistic_pca.evaluate(model)"
   ]
  },
  {
   "cell_type": "code",
   "execution_count": null,
   "metadata": {
    "datalore": {
     "hide_input_from_viewers": false,
     "hide_output_from_viewers": false,
     "node_id": "qQ2xbTznCwx6QLcc3pwNkg",
     "report_properties": {
      "rowId": "VzoOy7rz7l21KEvv4rhJfY"
     },
     "type": "CODE"
    }
   },
   "outputs": [],
   "source": [
    "logistic_pca.get_model_expression(model)"
   ]
  },
  {
   "attachments": {},
   "cell_type": "markdown",
   "metadata": {
    "datalore": {
     "hide_input_from_viewers": false,
     "hide_output_from_viewers": false,
     "node_id": "TX9BHppmdqR9rwDCaehOiP",
     "report_properties": {
      "rowId": "HxQa8rRx1poUiMIzsJ1zEN"
     },
     "type": "MD"
    }
   },
   "source": [
    "#### using first two components (cumulatively account for 50% Variance)"
   ]
  },
  {
   "attachments": {},
   "cell_type": "markdown",
   "metadata": {
    "datalore": {
     "hide_input_from_viewers": false,
     "hide_output_from_viewers": false,
     "node_id": "ExFeRgaPhcYgueJblmO8eo",
     "report_properties": {
      "rowId": "zb0g0DG6HjYQ6596BQ8NTQ"
     },
     "type": "MD"
    }
   },
   "source": [
    ">While retaining components that explain a high cumulative variance captures most of the information in the features, fewer components can still be effective if the variance they capture is more related to the prediction target."
   ]
  },
  {
   "cell_type": "code",
   "execution_count": null,
   "metadata": {
    "datalore": {
     "hide_input_from_viewers": false,
     "hide_output_from_viewers": false,
     "node_id": "3qKuGU5Dtdl6cD93vpRM6P",
     "report_properties": {
      "rowId": "lMWtJTw7PLJoN8J3WLxfvX"
     },
     "type": "CODE"
    }
   },
   "outputs": [],
   "source": [
    "# initialize the model\n",
    "logistic_pca = LogisticModel(pc_df.features.iloc[:, :2], pc_df.target)\n",
    "# train the model\n",
    "model = logistic_pca.logistic_training(test_size=0.2, random_state=RANDOM_STATE)\n",
    "# evaluate the model\n",
    "logistic_pca.evaluate(model)"
   ]
  },
  {
   "attachments": {},
   "cell_type": "markdown",
   "metadata": {
    "datalore": {
     "hide_input_from_viewers": false,
     "hide_output_from_viewers": false,
     "node_id": "Tyc2YjhhYwSqjB32YdD5EX",
     "report_properties": {
      "rowId": "k4aZUYK5xF50Mxbo3WnWS8"
     },
     "type": "MD"
    }
   },
   "source": [
    "### 6.3 Non-invasive model"
   ]
  },
  {
   "attachments": {},
   "cell_type": "markdown",
   "metadata": {
    "datalore": {
     "hide_input_from_viewers": false,
     "hide_output_from_viewers": false,
     "node_id": "462WinNRUgfO7uOpwf1VF4",
     "report_properties": {
      "rowId": "oUgUbjZc218BUHq4yyU8ha"
     },
     "type": "MD"
    }
   },
   "source": [
    ">We need to consider the availability of the features.\n",
    ">HbA1c_level, blood_glucose_level require invasive medical tests to get, while other features are more easily accessible\n",
    ">So we also built a model without these two features to serve as a basic version of the model"
   ]
  },
  {
   "cell_type": "code",
   "execution_count": null,
   "metadata": {
    "datalore": {
     "hide_input_from_viewers": false,
     "hide_output_from_viewers": false,
     "node_id": "UZX1PbofkDOsfKfYD49XcJ",
     "report_properties": {
      "rowId": "YTxxdot596jCNxs03Npr9I"
     },
     "type": "CODE"
    }
   },
   "outputs": [],
   "source": [
    "# get the normalized data without invasive features\n",
    "df_nor_noninvasive = projectdf_nor.get_data().drop(columns=INVASIVES, inplace=False)\n",
    "# instantiate the ProjectDataFrameNormalized object\n",
    "projectdf_nor_noninvasive = ProjNormalizedDF(df_nor_noninvasive)"
   ]
  },
  {
   "cell_type": "code",
   "execution_count": null,
   "metadata": {
    "datalore": {
     "hide_input_from_viewers": false,
     "hide_output_from_viewers": false,
     "node_id": "haHPZhQyzT3LxuGQIjsGg3",
     "report_properties": {
      "rowId": "tH8x2o6X4XYD9ZZweJXxWa"
     },
     "type": "CODE"
    }
   },
   "outputs": [],
   "source": [
    "# initialize the model\n",
    "logistic_pca = LogisticModel(projectdf_nor_noninvasive.features, projectdf_nor_noninvasive.target)\n",
    "# train the model\n",
    "model = logistic_pca.logistic_training(test_size=0.2, random_state=RANDOM_STATE)\n",
    "# evaluate the model\n",
    "logistic_pca.evaluate(model, prob_threshhold=0.085)"
   ]
  }
 ],
 "metadata": {
  "datalore": {
   "base_environment": "default",
   "computation_mode": "JUPYTER",
   "package_manager": "pip",
   "packages": [],
   "report_row_ids": [
    "obdAY2rxp1PeFMqVYROCsm",
    "NUsx9BDcBm9WrAQMYU8UFA",
    "97UjpBYXbpqD1elhztqi3c",
    "5GCnIylsQzpQwv9CFTt75t",
    "ItZx73RiJdLJxiGIVewoq9",
    "BiNBbXuDOChvd5xL803IuZ",
    "UCYc1WyXUBpzSQuAkB10vq",
    "53ekQj9QEWRu1j3xK06Xb4",
    "MvJx5MKQOrwFz4V1C5FsMd",
    "bQYjawyyzVyysev96KRFG6",
    "sSiJaBMJYVfWHNwfLXXwhy",
    "BHKxFu3r3yQ4qNJJPKFV8v",
    "5dRFgD5jM6498WuTrT004M",
    "RCaw9n4OmM7SeobXC3Qgr1",
    "hbzJGYaIYahdIBDphDp7oD",
    "SNsvrtdrsVREBr1nErgpeQ",
    "aoxBfyBv00xdykGxPZcS8B",
    "1g1cUptVOPh6tdCSG8YW92",
    "lb1BRszNzNjW63VEwQyUTv",
    "oEYZ5ROX4LSHKHe01XMDcP",
    "7R1GjGTcyEsmF9XAaO58Wu",
    "IROXVp3ycybpsZ4GOO6x3w",
    "sRjyLoKjnyeVGWLgQufxlI",
    "JkJtWaMTKcLlUYn1iW2GUd",
    "a1827IX9Hhpgffkk3geIgS",
    "GHogwbQuwYMtmmUx5Fz59W",
    "IIdGKgdXxu3dVcGEqeXIUH",
    "df6jAkSdgNkIhYagdr9VXt",
    "inuIFc8hS6arPIh1ieDUXC",
    "QVhFfB53OqgbDuZsesPfYI",
    "10HuMzmki3o3xHBO2lJyZM",
    "VzoOy7rz7l21KEvv4rhJfY",
    "HxQa8rRx1poUiMIzsJ1zEN",
    "zb0g0DG6HjYQ6596BQ8NTQ",
    "lMWtJTw7PLJoN8J3WLxfvX",
    "k4aZUYK5xF50Mxbo3WnWS8",
    "oUgUbjZc218BUHq4yyU8ha",
    "YTxxdot596jCNxs03Npr9I",
    "tH8x2o6X4XYD9ZZweJXxWa"
   ],
   "version": 3
  },
  "kernelspec": {
   "display_name": "diabetes-analysis",
   "language": "python",
   "name": "python3"
  },
  "language_info": {
   "codemirror_mode": {
    "name": "ipython",
    "version": 3
   },
   "file_extension": ".py",
   "mimetype": "text/x-python",
   "name": "python",
   "nbconvert_exporter": "python",
   "pygments_lexer": "ipython3",
   "version": "3.8.19"
  }
 },
 "nbformat": 4,
 "nbformat_minor": 4
}
